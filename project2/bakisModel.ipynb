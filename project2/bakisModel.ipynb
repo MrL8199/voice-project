{
 "cells": [
  {
   "cell_type": "code",
   "execution_count": 2,
   "metadata": {},
   "outputs": [],
   "source": [
    "import numpy as np"
   ]
  },
  {
   "cell_type": "code",
   "execution_count": 3,
   "metadata": {},
   "outputs": [],
   "source": [
    "def initByBakis(nComp, bakisLevel):\n",
    "        ''' init start_prob and transmat_prob by Bakis model ''' \n",
    "        startprobPrior = np.zeros(nComp)\n",
    "        startprobPrior[0 : bakisLevel - 1] = 1./ (bakisLevel - 1)\n",
    "         \n",
    "        transmatPrior = getTransmatPrior(nComp, bakisLevel)\n",
    "         \n",
    "        return startprobPrior, transmatPrior\n",
    "\n",
    "def getTransmatPrior(nComp, bakisLevel):\n",
    "        ''' get transmat prior '''\n",
    "        transmatPrior = (1. / bakisLevel) * np.eye(nComp)\n",
    "        \n",
    "        for i in range(nComp - (bakisLevel - 1)):\n",
    "            for j in range(bakisLevel - 1):\n",
    "                transmatPrior[i, i + j + 1] = 1. /  bakisLevel\n",
    "                 \n",
    "        for i in range(nComp - bakisLevel + 1, nComp):\n",
    "            for j in range(nComp - i -j):\n",
    "                transmatPrior[i, i + j] = 1. / (nComp - i)\n",
    "        return transmatPrior"
   ]
  },
  {
   "cell_type": "code",
   "execution_count": 8,
   "metadata": {},
   "outputs": [
    {
     "output_type": "stream",
     "name": "stdout",
     "text": "[0.33333333 0.33333333 0.33333333 0.         0.        ]\n[[0.25       0.25       0.25       0.25       0.        ]\n [0.         0.25       0.25       0.25       0.25      ]\n [0.         0.         0.33333333 0.         0.        ]\n [0.         0.         0.         0.5        0.5       ]\n [0.         0.         0.         0.         0.25      ]]\n"
    }
   ],
   "source": [
    "startprobPrior,transmatPrior = initByBakis(nComp=5,bakisLevel=4)\n",
    "print(startprobPrior)\n",
    "print(transmatPrior)"
   ]
  },
  {
   "cell_type": "code",
   "execution_count": null,
   "metadata": {},
   "outputs": [],
   "source": []
  }
 ],
 "metadata": {
  "language_info": {
   "codemirror_mode": {
    "name": "ipython",
    "version": 3
   },
   "file_extension": ".py",
   "mimetype": "text/x-python",
   "name": "python",
   "nbconvert_exporter": "python",
   "pygments_lexer": "ipython3",
   "version": "3.7.7-final"
  },
  "orig_nbformat": 2,
  "kernelspec": {
   "name": "python3",
   "display_name": "Python 3"
  }
 },
 "nbformat": 4,
 "nbformat_minor": 2
}